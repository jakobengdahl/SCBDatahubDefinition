{
  "nbformat": 4,
  "nbformat_minor": 0,
  "metadata": {
    "colab": {
      "provenance": [],
      "authorship_tag": "ABX9TyNgt72CFaAObR77w0+uotdH",
      "include_colab_link": true
    },
    "kernelspec": {
      "name": "python3",
      "display_name": "Python 3"
    },
    "language_info": {
      "name": "python"
    },
    "widgets": {
      "application/vnd.jupyter.widget-state+json": {
        "ac6ac7eeaa024f7a8111259371c1b499": {
          "model_module": "yfiles-jupyter-graphs",
          "model_name": "GraphModel",
          "model_module_version": "^1.4.3",
          "state": {
            "_context_pane_mapping": [
              {
                "id": "Neighborhood",
                "title": "Neighborhood"
              },
              {
                "id": "Data",
                "title": "Data"
              },
              {
                "id": "Search",
                "title": "Search"
              },
              {
                "id": "About",
                "title": "About"
              }
            ],
            "_data_importer": "unknown",
            "_directed": false,
            "_dom_classes": [],
            "_edges": [
              {
                "id": 0,
                "start": 0,
                "end": 1,
                "properties": {
                  "label": "data"
                },
                "label": "data",
                "color": "#094c4b",
                "thickness_factor": 1,
                "directed": false
              },
              {
                "id": 1,
                "start": 1,
                "end": 2,
                "properties": {
                  "label": "technical artefacts"
                },
                "label": "technical artefacts",
                "color": "#094c4b",
                "thickness_factor": 1,
                "directed": false
              },
              {
                "id": 2,
                "start": 2,
                "end": 3,
                "properties": {
                  "label": "experts exchange"
                },
                "label": "experts exchange",
                "color": "#094c4b",
                "thickness_factor": 1,
                "directed": false
              },
              {
                "id": 3,
                "start": 3,
                "end": 4,
                "properties": {
                  "label": "data"
                },
                "label": "data",
                "color": "#094c4b",
                "thickness_factor": 1,
                "directed": false
              },
              {
                "id": 4,
                "start": 4,
                "end": 5,
                "properties": {
                  "label": "technical artefacts"
                },
                "label": "technical artefacts",
                "color": "#094c4b",
                "thickness_factor": 1,
                "directed": false
              },
              {
                "id": 5,
                "start": 5,
                "end": 6,
                "properties": {
                  "label": "experts exchange"
                },
                "label": "experts exchange",
                "color": "#094c4b",
                "thickness_factor": 1,
                "directed": false
              },
              {
                "id": 6,
                "start": 6,
                "end": 7,
                "properties": {
                  "label": "data"
                },
                "label": "data",
                "color": "#094c4b",
                "thickness_factor": 1,
                "directed": false
              },
              {
                "id": 7,
                "start": 0,
                "end": 7,
                "properties": {
                  "label": "experts exchange"
                },
                "label": "experts exchange",
                "color": "#094c4b",
                "thickness_factor": 1,
                "directed": false
              },
              {
                "id": 8,
                "start": 0,
                "end": 3,
                "properties": {
                  "label": "technical artefacts"
                },
                "label": "technical artefacts",
                "color": "#094c4b",
                "thickness_factor": 1,
                "directed": false
              },
              {
                "id": 9,
                "start": 1,
                "end": 3,
                "properties": {
                  "label": "experts exchange"
                },
                "label": "experts exchange",
                "color": "#094c4b",
                "thickness_factor": 1,
                "directed": false
              },
              {
                "id": 10,
                "start": 2,
                "end": 4,
                "properties": {
                  "label": "data"
                },
                "label": "data",
                "color": "#094c4b",
                "thickness_factor": 1,
                "directed": false
              },
              {
                "id": 11,
                "start": 3,
                "end": 6,
                "properties": {
                  "label": "technical artefacts"
                },
                "label": "technical artefacts",
                "color": "#094c4b",
                "thickness_factor": 1,
                "directed": false
              },
              {
                "id": 12,
                "start": 4,
                "end": 7,
                "properties": {
                  "label": "experts exchange"
                },
                "label": "experts exchange",
                "color": "#094c4b",
                "thickness_factor": 1,
                "directed": false
              },
              {
                "id": 13,
                "start": 0,
                "end": 6,
                "properties": {
                  "label": "data"
                },
                "label": "data",
                "color": "#094c4b",
                "thickness_factor": 1,
                "directed": false
              },
              {
                "id": 14,
                "start": 1,
                "end": 4,
                "properties": {
                  "label": "technical artefacts"
                },
                "label": "technical artefacts",
                "color": "#094c4b",
                "thickness_factor": 1,
                "directed": false
              },
              {
                "id": 15,
                "start": 2,
                "end": 5,
                "properties": {
                  "label": "experts exchange"
                },
                "label": "experts exchange",
                "color": "#094c4b",
                "thickness_factor": 1,
                "directed": false
              },
              {
                "id": 16,
                "start": 3,
                "end": 7,
                "properties": {
                  "label": "data"
                },
                "label": "data",
                "color": "#094c4b",
                "thickness_factor": 1,
                "directed": false
              }
            ],
            "_graph_layout": {},
            "_highlight": [],
            "_model_module": "yfiles-jupyter-graphs",
            "_model_module_version": "^1.4.3",
            "_model_name": "GraphModel",
            "_neighborhood": {},
            "_nodes": [
              {
                "id": 0,
                "properties": {
                  "label": "Skatteverket",
                  "url": "https://www.skatteverket.se"
                },
                "label": "Skatteverket",
                "color": "#17bebb",
                "styles": {},
                "scale_factor": 1,
                "type": null,
                "position": [
                  0,
                  0
                ]
              },
              {
                "id": 1,
                "properties": {
                  "label": "Bolagsverket",
                  "url": "https://www.bolagsverket.se"
                },
                "label": "Bolagsverket",
                "color": "#17bebb",
                "styles": {},
                "scale_factor": 1,
                "type": null,
                "position": [
                  0,
                  0
                ]
              },
              {
                "id": 2,
                "properties": {
                  "label": "Trafikverket",
                  "url": "https://www.trafikverket.se"
                },
                "label": "Trafikverket",
                "color": "#17bebb",
                "styles": {},
                "scale_factor": 1,
                "type": null,
                "position": [
                  0,
                  0
                ]
              },
              {
                "id": 3,
                "properties": {
                  "label": "Försäkringskassan",
                  "url": "https://www.forsakringskassan.se"
                },
                "label": "Försäkringskassan",
                "color": "#17bebb",
                "styles": {},
                "scale_factor": 1,
                "type": null,
                "position": [
                  0,
                  0
                ]
              },
              {
                "id": 4,
                "properties": {
                  "label": "Arbetsförmedlingen",
                  "url": "https://www.arbetsformedlingen.se"
                },
                "label": "Arbetsförmedlingen",
                "color": "#17bebb",
                "styles": {},
                "scale_factor": 1,
                "type": null,
                "position": [
                  0,
                  0
                ]
              },
              {
                "id": 5,
                "properties": {
                  "label": "Statistiska Centralbyrån",
                  "url": "https://www.scb.se"
                },
                "label": "Statistiska Centralbyrån",
                "color": "#17bebb",
                "styles": {},
                "scale_factor": 1,
                "type": null,
                "position": [
                  0,
                  0
                ]
              },
              {
                "id": 6,
                "properties": {
                  "label": "Sveriges Riksbank",
                  "url": "https://www.riksbank.se"
                },
                "label": "Sveriges Riksbank",
                "color": "#17bebb",
                "styles": {},
                "scale_factor": 1,
                "type": null,
                "position": [
                  0,
                  0
                ]
              },
              {
                "id": 7,
                "properties": {
                  "label": "Socialstyrelsen",
                  "url": "https://www.socialstyrelsen.se"
                },
                "label": "Socialstyrelsen",
                "color": "#17bebb",
                "styles": {},
                "scale_factor": 1,
                "type": null,
                "position": [
                  0,
                  0
                ]
              }
            ],
            "_overview": {
              "enabled": null,
              "overview_set": false
            },
            "_sidebar": {
              "enabled": true,
              "start_with": ""
            },
            "_svg": "<svg xmlns=\"http://www.w3.org/2000/svg\" width=\"339px\" height=\"413px\" viewBox=\"0 0 339 413\" xmlns:xlink=\"http://www.w3.org/1999/xlink\" style=\"overflow: hidden; display: block; width: 339px; height: 413px;\"><defs/><g style=\"pointer-events:visiblePainted\" transform=\"translate(-25 0)\" image-rendering=\"auto\" shape-rendering=\"auto\"><g><path fill=\"none\" stroke=\"rgb(9,76,75)\" d=\"M 74.58168126684997,157.890526301167 L 127.41831873315002,197.109473698833\" stroke-opacity=\"1\" stroke-width=\"2\" stroke-linecap=\"butt\" stroke-linejoin=\"miter\" stroke-miterlimit=\"10\"/></g><g><path fill=\"none\" stroke=\"rgb(9,76,75)\" d=\"M 165.05715365610183,236.17652905804673 L 251.94284634389817,362.82347094195325\" stroke-opacity=\"1\" stroke-width=\"2\" stroke-linecap=\"butt\" stroke-linejoin=\"miter\" stroke-miterlimit=\"10\"/></g><g><path fill=\"none\" stroke=\"rgb(9,76,75)\" d=\"M 272.5946803489818,358.4760433662704 L 308.4053196510182,168.5239566337296\" stroke-opacity=\"1\" stroke-width=\"2\" stroke-linecap=\"butt\" stroke-linejoin=\"miter\" stroke-miterlimit=\"10\"/></g><g><path fill=\"none\" stroke=\"rgb(9,76,75)\" d=\"M 318.22054361278686,168.5918155168637 L 331.77945638721314,246.4081844831363\" stroke-opacity=\"1\" stroke-width=\"2\" stroke-linecap=\"butt\" stroke-linejoin=\"miter\" stroke-miterlimit=\"10\"/></g><g><path fill=\"none\" stroke=\"rgb(9,76,75)\" d=\"M 309.17817660892524,276.62537463145134 L 92.82182339107477,301.37462536854866\" stroke-opacity=\"1\" stroke-width=\"2\" stroke-linecap=\"butt\" stroke-linejoin=\"miter\" stroke-miterlimit=\"10\"/></g><g><path fill=\"none\" stroke=\"rgb(9,76,75)\" d=\"M 69.63715491712772,277.3129819731607 L 103.36284508287227,55.68701802683931\" stroke-opacity=\"1\" stroke-width=\"2\" stroke-linecap=\"butt\" stroke-linejoin=\"miter\" stroke-miterlimit=\"10\"/></g><g><path fill=\"none\" stroke=\"rgb(9,76,75)\" d=\"M 134.9993084109798,28.30496944389376 L 221.0006915890202,27.69503055610624\" stroke-opacity=\"1\" stroke-width=\"2\" stroke-linecap=\"butt\" stroke-linejoin=\"miter\" stroke-miterlimit=\"10\"/></g><g><path fill=\"none\" stroke=\"rgb(9,76,75)\" d=\"M 76.27149610511276,127.6737216531487 L 224.72850389488724,41.326278346851296\" stroke-opacity=\"1\" stroke-width=\"2\" stroke-linecap=\"butt\" stroke-linejoin=\"miter\" stroke-miterlimit=\"10\"/></g><g><path fill=\"none\" stroke=\"rgb(9,76,75)\" d=\"M 80,141.5 L 286,141.5\" stroke-opacity=\"1\" stroke-width=\"2\" stroke-linecap=\"butt\" stroke-linejoin=\"miter\" stroke-miterlimit=\"10\"/></g><g><path fill=\"none\" stroke=\"rgb(9,76,75)\" d=\"M 174.6802108302603,202.44527329403206 L 288.3197891697397,152.55472670596794\" stroke-opacity=\"1\" stroke-width=\"2\" stroke-linecap=\"butt\" stroke-linejoin=\"miter\" stroke-miterlimit=\"10\"/></g><g><path fill=\"none\" stroke=\"rgb(9,76,75)\" d=\"M 281.9243410643306,362.0865768231156 L 322.0756589356694,296.9134231768844\" stroke-opacity=\"1\" stroke-width=\"2\" stroke-linecap=\"butt\" stroke-linejoin=\"miter\" stroke-miterlimit=\"10\"/></g><g><path fill=\"none\" stroke=\"rgb(9,76,75)\" d=\"M 289.3892507138728,128.27420063430887 L 131.6107492861272,41.725799365691145\" stroke-opacity=\"1\" stroke-width=\"2\" stroke-linecap=\"butt\" stroke-linejoin=\"miter\" stroke-miterlimit=\"10\"/></g><g><path fill=\"none\" stroke=\"rgb(9,76,75)\" d=\"M 327.23741462438215,247.6068636090683 L 257.76258537561785,53.39313639093169\" stroke-opacity=\"1\" stroke-width=\"2\" stroke-linecap=\"butt\" stroke-linejoin=\"miter\" stroke-miterlimit=\"10\"/></g><g><path fill=\"none\" stroke=\"rgb(9,76,75)\" d=\"M 64.535089283678,116.77336201717065 L 95.464910716322,53.226637982829345\" stroke-opacity=\"1\" stroke-width=\"2\" stroke-linecap=\"butt\" stroke-linejoin=\"miter\" stroke-miterlimit=\"10\"/></g><g><path fill=\"none\" stroke=\"rgb(9,76,75)\" d=\"M 175.6851527062767,221.9016532747412 L 310.3148472937233,265.0983467252588\" stroke-opacity=\"1\" stroke-width=\"2\" stroke-linecap=\"butt\" stroke-linejoin=\"miter\" stroke-miterlimit=\"10\"/></g><g><path fill=\"none\" stroke=\"rgb(9,76,75)\" d=\"M 241.97561466348867,375.26497419674547 L 91.02438533651132,314.73502580325453\" stroke-opacity=\"1\" stroke-width=\"2\" stroke-linecap=\"butt\" stroke-linejoin=\"miter\" stroke-miterlimit=\"10\"/></g><g><path fill=\"none\" stroke=\"rgb(9,76,75)\" d=\"M 299.8787530360843,117.61042840174782 L 262.1212469639157,51.389571598252175\" stroke-opacity=\"1\" stroke-width=\"2\" stroke-linecap=\"butt\" stroke-linejoin=\"miter\" stroke-miterlimit=\"10\"/></g><ellipse fill=\"rgb(23,190,187)\" fill-opacity=\"1\" stroke=\"rgb(6,53,53)\" stroke-opacity=\"1\" stroke-width=\"1\" stroke-linecap=\"square\" stroke-linejoin=\"miter\" stroke-miterlimit=\"10\" rx=\"27.5\" cx=\"52.5\" ry=\"27.5\" cy=\"141.5\"/><ellipse fill=\"rgb(23,190,187)\" fill-opacity=\"1\" stroke=\"rgb(6,53,53)\" stroke-opacity=\"1\" stroke-width=\"1\" stroke-linecap=\"square\" stroke-linejoin=\"miter\" stroke-miterlimit=\"10\" rx=\"27.5\" cx=\"149.5\" ry=\"27.5\" cy=\"213.5\"/><ellipse fill=\"rgb(23,190,187)\" fill-opacity=\"1\" stroke=\"rgb(6,53,53)\" stroke-opacity=\"1\" stroke-width=\"1\" stroke-linecap=\"square\" stroke-linejoin=\"miter\" stroke-miterlimit=\"10\" rx=\"27.5\" cx=\"267.5\" ry=\"27.5\" cy=\"385.5\"/><ellipse fill=\"rgb(23,190,187)\" fill-opacity=\"1\" stroke=\"rgb(6,53,53)\" stroke-opacity=\"1\" stroke-width=\"1\" stroke-linecap=\"square\" stroke-linejoin=\"miter\" stroke-miterlimit=\"10\" rx=\"27.5\" cx=\"313.5\" ry=\"27.5\" cy=\"141.5\"/><ellipse fill=\"rgb(23,190,187)\" fill-opacity=\"1\" stroke=\"rgb(6,53,53)\" stroke-opacity=\"1\" stroke-width=\"1\" stroke-linecap=\"square\" stroke-linejoin=\"miter\" stroke-miterlimit=\"10\" rx=\"27.5\" cx=\"336.5\" ry=\"27.5\" cy=\"273.5\"/><ellipse fill=\"rgb(23,190,187)\" fill-opacity=\"1\" stroke=\"rgb(6,53,53)\" stroke-opacity=\"1\" stroke-width=\"1\" stroke-linecap=\"square\" stroke-linejoin=\"miter\" stroke-miterlimit=\"10\" rx=\"27.5\" cx=\"65.5\" ry=\"27.5\" cy=\"304.5\"/><ellipse fill=\"rgb(23,190,187)\" fill-opacity=\"1\" stroke=\"rgb(6,53,53)\" stroke-opacity=\"1\" stroke-width=\"1\" stroke-linecap=\"square\" stroke-linejoin=\"miter\" stroke-miterlimit=\"10\" rx=\"27.5\" cx=\"107.5\" ry=\"27.5\" cy=\"28.5\"/><ellipse fill=\"rgb(23,190,187)\" fill-opacity=\"1\" stroke=\"rgb(6,53,53)\" stroke-opacity=\"1\" stroke-width=\"1\" stroke-linecap=\"square\" stroke-linejoin=\"miter\" stroke-miterlimit=\"10\" rx=\"27.5\" cx=\"248.5\" ry=\"27.5\" cy=\"27.5\"/><g transform=\"matrix(0.8029702278854536 0.5960191382242542 -0.5960191382242542 0.8029702278854536 117.31462733007045 175.91068842409982)\"><rect fill=\"rgb(255,255,255)\" stroke=\"rgb(9,76,75)\" fill-opacity=\"1\" stroke-opacity=\"1\" stroke-width=\"2\" stroke-linecap=\"butt\" stroke-linejoin=\"miter\" stroke-miterlimit=\"10\" height=\"22\" rx=\"0\" x=\"0\" width=\"28\" y=\"0\" ry=\"0\"/><text font-family=\"'Arial'\" font-size=\"12px\" font-style=\"normal\" font-weight=\"normal\" text-decoration=\"none\" text-anchor=\"start\" fill=\"rgb(9,76,75)\" fill-opacity=\"1\" dy=\"0.9333330790201823em\" transform=\"translate(2 4)\">data</text></g><g transform=\"matrix(0.5657146784037026 0.8246010566562447 -0.8246010566562447 0.5657146784037026 188.71916302462986 251.2224846480908)\"><rect fill=\"rgb(255,255,255)\" stroke=\"rgb(9,76,75)\" fill-opacity=\"1\" stroke-opacity=\"1\" stroke-width=\"2\" stroke-linecap=\"butt\" stroke-linejoin=\"miter\" stroke-miterlimit=\"10\" height=\"22\" rx=\"0\" x=\"0\" width=\"102\" y=\"0\" ry=\"0\"/><text font-family=\"'Arial'\" font-size=\"12px\" font-style=\"normal\" font-weight=\"normal\" text-decoration=\"none\" text-anchor=\"start\" fill=\"rgb(9,76,75)\" fill-opacity=\"1\" dy=\"0.9333330790201823em\" transform=\"translate(2 4)\">technical artefacts</text></g><g transform=\"matrix(0.1852611035993386 -0.9826893321356222 0.9826893321356222 0.1852611035993386 270.4273621665412 310.59659446718837)\"><rect fill=\"rgb(255,255,255)\" stroke=\"rgb(9,76,75)\" fill-opacity=\"1\" stroke-opacity=\"1\" stroke-width=\"2\" stroke-linecap=\"butt\" stroke-linejoin=\"miter\" stroke-miterlimit=\"10\" height=\"22\" rx=\"0\" x=\"0\" width=\"100\" y=\"0\" ry=\"0\"/><text font-family=\"'Arial'\" font-size=\"12px\" font-style=\"normal\" font-weight=\"normal\" text-decoration=\"none\" text-anchor=\"start\" fill=\"rgb(9,76,75)\" fill-opacity=\"1\" dy=\"0.9333330790201823em\" transform=\"translate(2 4)\">experts exchange</text></g><g transform=\"matrix(0.17165613137406735 0.9851569278859531 -0.9851569278859531 0.17165613137406735 326.72520703417524 153.3195855644819)\"><rect fill=\"rgb(255,255,255)\" stroke=\"rgb(9,76,75)\" fill-opacity=\"1\" stroke-opacity=\"1\" stroke-width=\"2\" stroke-linecap=\"butt\" stroke-linejoin=\"miter\" stroke-miterlimit=\"10\" height=\"22\" rx=\"0\" x=\"0\" width=\"28\" y=\"0\" ry=\"0\"/><text font-family=\"'Arial'\" font-size=\"12px\" font-style=\"normal\" font-weight=\"normal\" text-decoration=\"none\" text-anchor=\"start\" fill=\"rgb(9,76,75)\" fill-opacity=\"1\" dy=\"0.9333330790201823em\" transform=\"translate(2 4)\">data</text></g><g transform=\"matrix(0.993520850584537 -0.1136499865982312 0.1136499865982312 0.993520850584537 149.08028676760807 283.86741996007987)\"><rect fill=\"rgb(255,255,255)\" stroke=\"rgb(9,76,75)\" fill-opacity=\"1\" stroke-opacity=\"1\" stroke-width=\"2\" stroke-linecap=\"butt\" stroke-linejoin=\"miter\" stroke-miterlimit=\"10\" height=\"22\" rx=\"0\" x=\"0\" width=\"102\" y=\"0\" ry=\"0\"/><text font-family=\"'Arial'\" font-size=\"12px\" font-style=\"normal\" font-weight=\"normal\" text-decoration=\"none\" text-anchor=\"start\" fill=\"rgb(9,76,75)\" fill-opacity=\"1\" dy=\"0.9333330790201823em\" transform=\"translate(2 4)\">technical artefacts</text></g><g transform=\"matrix(0.1504419969864627 -0.9886188373396114 0.9886188373396114 0.1504419969864627 68.10309293994116 214.27607990012953)\"><rect fill=\"rgb(255,255,255)\" stroke=\"rgb(9,76,75)\" fill-opacity=\"1\" stroke-opacity=\"1\" stroke-width=\"2\" stroke-linecap=\"butt\" stroke-linejoin=\"miter\" stroke-miterlimit=\"10\" height=\"22\" rx=\"0\" x=\"0\" width=\"100\" y=\"0\" ry=\"0\"/><text font-family=\"'Arial'\" font-size=\"12px\" font-style=\"normal\" font-weight=\"normal\" text-decoration=\"none\" text-anchor=\"start\" fill=\"rgb(9,76,75)\" fill-opacity=\"1\" dy=\"0.9333330790201823em\" transform=\"translate(2 4)\">experts exchange</text></g><g transform=\"matrix(0.9999748513083567 -0.007092020222045252 0.007092020222045252 0.9999748513083567 163.92233985924054 17.099564918716684)\"><rect fill=\"rgb(255,255,255)\" stroke=\"rgb(9,76,75)\" fill-opacity=\"1\" stroke-opacity=\"1\" stroke-width=\"2\" stroke-linecap=\"butt\" stroke-linejoin=\"miter\" stroke-miterlimit=\"10\" height=\"22\" rx=\"0\" x=\"0\" width=\"28\" y=\"0\" ry=\"0\"/><text font-family=\"'Arial'\" font-size=\"12px\" font-style=\"normal\" font-weight=\"normal\" text-decoration=\"none\" text-anchor=\"start\" fill=\"rgb(9,76,75)\" fill-opacity=\"1\" dy=\"0.9333330790201823em\" transform=\"translate(2 4)\">data</text></g><g transform=\"matrix(0.8644180401859185 -0.5027737580673198 0.5027737580673198 0.8644180401859185 101.74858665196356 100.13008946132086)\"><rect fill=\"rgb(255,255,255)\" stroke=\"rgb(9,76,75)\" fill-opacity=\"1\" stroke-opacity=\"1\" stroke-width=\"2\" stroke-linecap=\"butt\" stroke-linejoin=\"miter\" stroke-miterlimit=\"10\" height=\"22\" rx=\"0\" x=\"0\" width=\"100\" y=\"0\" ry=\"0\"/><text font-family=\"'Arial'\" font-size=\"12px\" font-style=\"normal\" font-weight=\"normal\" text-decoration=\"none\" text-anchor=\"start\" fill=\"rgb(9,76,75)\" fill-opacity=\"1\" dy=\"0.9333330790201823em\" transform=\"translate(2 4)\">experts exchange</text></g><g transform=\"translate(132 130.5)\"><rect fill=\"rgb(255,255,255)\" stroke=\"rgb(9,76,75)\" fill-opacity=\"1\" stroke-opacity=\"1\" stroke-width=\"2\" stroke-linecap=\"butt\" stroke-linejoin=\"miter\" stroke-miterlimit=\"10\" height=\"22\" rx=\"0\" x=\"0\" width=\"102\" y=\"0\" ry=\"0\"/><text font-family=\"'Arial'\" font-size=\"12px\" font-style=\"normal\" font-weight=\"normal\" text-decoration=\"none\" text-anchor=\"start\" fill=\"rgb(9,76,75)\" fill-opacity=\"1\" dy=\"0.9333330790201823em\" transform=\"translate(2 4)\">technical artefacts</text></g><g transform=\"matrix(0.9156440301912844 -0.401990062035198 0.401990062035198 0.9156440301912844 181.2959078080486 187.52741876965578)\"><rect fill=\"rgb(255,255,255)\" stroke=\"rgb(9,76,75)\" fill-opacity=\"1\" stroke-opacity=\"1\" stroke-width=\"2\" stroke-linecap=\"butt\" stroke-linejoin=\"miter\" stroke-miterlimit=\"10\" height=\"22\" rx=\"0\" x=\"0\" width=\"100\" y=\"0\" ry=\"0\"/><text font-family=\"'Arial'\" font-size=\"12px\" font-style=\"normal\" font-weight=\"normal\" text-decoration=\"none\" text-anchor=\"start\" fill=\"rgb(9,76,75)\" fill-opacity=\"1\" dy=\"0.9333330790201823em\" transform=\"translate(2 4)\">experts exchange</text></g><g transform=\"matrix(0.5245214932483842 -0.8513972064321595 0.8513972064321595 0.5245214932483842 285.2913298237689 335.649824464318)\"><rect fill=\"rgb(255,255,255)\" stroke=\"rgb(9,76,75)\" fill-opacity=\"1\" stroke-opacity=\"1\" stroke-width=\"2\" stroke-linecap=\"butt\" stroke-linejoin=\"miter\" stroke-miterlimit=\"10\" height=\"22\" rx=\"0\" x=\"0\" width=\"28\" y=\"0\" ry=\"0\"/><text font-family=\"'Arial'\" font-size=\"12px\" font-style=\"normal\" font-weight=\"normal\" text-decoration=\"none\" text-anchor=\"start\" fill=\"rgb(9,76,75)\" fill-opacity=\"1\" dy=\"0.9333330790201823em\" transform=\"translate(2 4)\">data</text></g><g transform=\"matrix(0.8767545194955348 0.48093815875240525 -0.48093815875240525 0.8767545194955348 171.07583925200416 50.827854189176485)\"><rect fill=\"rgb(255,255,255)\" stroke=\"rgb(9,76,75)\" fill-opacity=\"1\" stroke-opacity=\"1\" stroke-width=\"2\" stroke-linecap=\"butt\" stroke-linejoin=\"miter\" stroke-miterlimit=\"10\" height=\"22\" rx=\"0\" x=\"0\" width=\"102\" y=\"0\" ry=\"0\"/><text font-family=\"'Arial'\" font-size=\"12px\" font-style=\"normal\" font-weight=\"normal\" text-decoration=\"none\" text-anchor=\"start\" fill=\"rgb(9,76,75)\" fill-opacity=\"1\" dy=\"0.9333330790201823em\" transform=\"translate(2 4)\">technical artefacts</text></g><g transform=\"matrix(0.3368212863861032 0.9415685960338793 -0.9415685960338793 0.3368212863861032 320.17879186308375 195.2165360480588)\"><rect fill=\"rgb(255,255,255)\" stroke=\"rgb(9,76,75)\" fill-opacity=\"1\" stroke-opacity=\"1\" stroke-width=\"2\" stroke-linecap=\"butt\" stroke-linejoin=\"miter\" stroke-miterlimit=\"10\" height=\"22\" rx=\"0\" x=\"0\" width=\"100\" y=\"0\" ry=\"0\"/><text font-family=\"'Arial'\" font-size=\"12px\" font-style=\"normal\" font-weight=\"normal\" text-decoration=\"none\" text-anchor=\"start\" fill=\"rgb(9,76,75)\" fill-opacity=\"1\" dy=\"0.9333330790201823em\" transform=\"translate(2 4)\">experts exchange</text></g><g transform=\"matrix(0.4376396103155637 -0.8991504721028853 0.8991504721028853 0.4376396103155637 63.98239026245036 92.77407089596923)\"><rect fill=\"rgb(255,255,255)\" stroke=\"rgb(9,76,75)\" fill-opacity=\"1\" stroke-opacity=\"1\" stroke-width=\"2\" stroke-linecap=\"butt\" stroke-linejoin=\"miter\" stroke-miterlimit=\"10\" height=\"22\" rx=\"0\" x=\"0\" width=\"28\" y=\"0\" ry=\"0\"/><text font-family=\"'Arial'\" font-size=\"12px\" font-style=\"normal\" font-weight=\"normal\" text-decoration=\"none\" text-anchor=\"start\" fill=\"rgb(9,76,75)\" fill-opacity=\"1\" dy=\"0.9333330790201823em\" transform=\"translate(2 4)\">data</text></g><g transform=\"matrix(0.952187371137335 0.3055146645360434 -0.3055146645360434 0.952187371137335 197.7991053818924 217.44469102615108)\"><rect fill=\"rgb(255,255,255)\" stroke=\"rgb(9,76,75)\" fill-opacity=\"1\" stroke-opacity=\"1\" stroke-width=\"2\" stroke-linecap=\"butt\" stroke-linejoin=\"miter\" stroke-miterlimit=\"10\" height=\"22\" rx=\"0\" x=\"0\" width=\"102\" y=\"0\" ry=\"0\"/><text font-family=\"'Arial'\" font-size=\"12px\" font-style=\"normal\" font-weight=\"normal\" text-decoration=\"none\" text-anchor=\"start\" fill=\"rgb(9,76,75)\" fill-opacity=\"1\" dy=\"0.9333330790201823em\" transform=\"translate(2 4)\">technical artefacts</text></g><g transform=\"matrix(0.9281594667822295 0.3721827564819834 -0.3721827564819834 0.9281594667822295 124.18603698219034 316.1811080412963)\"><rect fill=\"rgb(255,255,255)\" stroke=\"rgb(9,76,75)\" fill-opacity=\"1\" stroke-opacity=\"1\" stroke-width=\"2\" stroke-linecap=\"butt\" stroke-linejoin=\"miter\" stroke-miterlimit=\"10\" height=\"22\" rx=\"0\" x=\"0\" width=\"100\" y=\"0\" ry=\"0\"/><text font-family=\"'Arial'\" font-size=\"12px\" font-style=\"normal\" font-weight=\"normal\" text-decoration=\"none\" text-anchor=\"start\" fill=\"rgb(9,76,75)\" fill-opacity=\"1\" dy=\"0.9333330790201823em\" transform=\"translate(2 4)\">experts exchange</text></g><g transform=\"matrix(0.4953180714151173 0.868711694481897 -0.868711694481897 0.4953180714151173 283.62137563948926 66.88953749168716)\"><rect fill=\"rgb(255,255,255)\" stroke=\"rgb(9,76,75)\" fill-opacity=\"1\" stroke-opacity=\"1\" stroke-width=\"2\" stroke-linecap=\"butt\" stroke-linejoin=\"miter\" stroke-miterlimit=\"10\" height=\"22\" rx=\"0\" x=\"0\" width=\"28\" y=\"0\" ry=\"0\"/><text font-family=\"'Arial'\" font-size=\"12px\" font-style=\"normal\" font-weight=\"normal\" text-decoration=\"none\" text-anchor=\"start\" fill=\"rgb(9,76,75)\" fill-opacity=\"1\" dy=\"0.9333330790201823em\" transform=\"translate(2 4)\">data</text></g><g transform=\"translate(16.5 130.5)\"><rect fill=\"rgb(255,255,255)\" stroke=\"none\" fill-opacity=\"0.6980392156862745\" height=\"22\" rx=\"0\" x=\"0\" width=\"72\" y=\"0\" ry=\"0\"/><text font-family=\"'Arial'\" font-size=\"12px\" font-style=\"normal\" font-weight=\"normal\" text-decoration=\"none\" text-anchor=\"start\" fill=\"rgb(9,76,75)\" fill-opacity=\"1\" dy=\"0.9333330790201823em\" transform=\"translate(2 4)\">Skatteverket</text></g><g transform=\"translate(112 202.5)\"><rect fill=\"rgb(255,255,255)\" stroke=\"none\" fill-opacity=\"0.6980392156862745\" height=\"22\" rx=\"0\" x=\"0\" width=\"75\" y=\"0\" ry=\"0\"/><text font-family=\"'Arial'\" font-size=\"12px\" font-style=\"normal\" font-weight=\"normal\" text-decoration=\"none\" text-anchor=\"start\" fill=\"rgb(9,76,75)\" fill-opacity=\"1\" dy=\"0.9333330790201823em\" transform=\"translate(2 4)\">Bolagsverket</text></g><g transform=\"translate(234 374.5)\"><rect fill=\"rgb(255,255,255)\" stroke=\"none\" fill-opacity=\"0.6980392156862745\" height=\"22\" rx=\"0\" x=\"0\" width=\"67\" y=\"0\" ry=\"0\"/><text font-family=\"'Arial'\" font-size=\"12px\" font-style=\"normal\" font-weight=\"normal\" text-decoration=\"none\" text-anchor=\"start\" fill=\"rgb(9,76,75)\" fill-opacity=\"1\" dy=\"0.9333330790201823em\" transform=\"translate(2 4)\">Trafikverket</text></g><g transform=\"translate(261 130.5)\"><rect fill=\"rgb(255,255,255)\" stroke=\"none\" fill-opacity=\"0.6980392156862745\" height=\"22\" rx=\"0\" x=\"0\" width=\"105\" y=\"0\" ry=\"0\"/><text font-family=\"'Arial'\" font-size=\"12px\" font-style=\"normal\" font-weight=\"normal\" text-decoration=\"none\" text-anchor=\"start\" fill=\"rgb(9,76,75)\" fill-opacity=\"1\" dy=\"0.9333330790201823em\" transform=\"translate(2 4)\">Försäkringskassan</text></g><g transform=\"translate(282 262.5)\"><rect fill=\"rgb(255,255,255)\" stroke=\"none\" fill-opacity=\"0.6980392156862745\" height=\"22\" rx=\"0\" x=\"0\" width=\"109\" y=\"0\" ry=\"0\"/><text font-family=\"'Arial'\" font-size=\"12px\" font-style=\"normal\" font-weight=\"normal\" text-decoration=\"none\" text-anchor=\"start\" fill=\"rgb(9,76,75)\" fill-opacity=\"1\" dy=\"0.9333330790201823em\" transform=\"translate(2 4)\">Arbetsförmedlingen</text></g><g transform=\"translate(0 293.5)\"><rect fill=\"rgb(255,255,255)\" stroke=\"none\" fill-opacity=\"0.6980392156862745\" height=\"22\" rx=\"0\" x=\"0\" width=\"131\" y=\"0\" ry=\"0\"/><text font-family=\"'Arial'\" font-size=\"12px\" font-style=\"normal\" font-weight=\"normal\" text-decoration=\"none\" text-anchor=\"start\" fill=\"rgb(9,76,75)\" fill-opacity=\"1\" dy=\"0.9333330790201823em\" transform=\"translate(2 4)\">Statistiska Centralbyrån</text></g><g transform=\"translate(55.5 17.5)\"><rect fill=\"rgb(255,255,255)\" stroke=\"none\" fill-opacity=\"0.6980392156862745\" height=\"22\" rx=\"0\" x=\"0\" width=\"104\" y=\"0\" ry=\"0\"/><text font-family=\"'Arial'\" font-size=\"12px\" font-style=\"normal\" font-weight=\"normal\" text-decoration=\"none\" text-anchor=\"start\" fill=\"rgb(9,76,75)\" fill-opacity=\"1\" dy=\"0.9333330790201823em\" transform=\"translate(2 4)\">Sveriges Riksbank</text></g><g transform=\"translate(206 16.5)\"><rect fill=\"rgb(255,255,255)\" stroke=\"none\" fill-opacity=\"0.6980392156862745\" height=\"22\" rx=\"0\" x=\"0\" width=\"85\" y=\"0\" ry=\"0\"/><text font-family=\"'Arial'\" font-size=\"12px\" font-style=\"normal\" font-weight=\"normal\" text-decoration=\"none\" text-anchor=\"start\" fill=\"rgb(9,76,75)\" fill-opacity=\"1\" dy=\"0.9333330790201823em\" transform=\"translate(2 4)\">Socialstyrelsen</text></g><g transform=\"translate(25 0)\"><rect fill=\"rgb(255,255,255)\" stroke=\"rgb(255,108,0)\" fill-opacity=\"0\" stroke-opacity=\"1\" stroke-width=\"3\" stroke-linecap=\"butt\" stroke-linejoin=\"miter\" stroke-miterlimit=\"10\" height=\"65\" rx=\"10\" x=\"256\" width=\"65\" y=\"109\" ry=\"10\"/></g></g></svg>",
            "_view_count": null,
            "_view_module": "yfiles-jupyter-graphs",
            "_view_module_version": "^1.4.3",
            "_view_name": "GraphView",
            "layout": "IPY_MODEL_ea9b95364e21470897ee978262201301"
          }
        },
        "ea9b95364e21470897ee978262201301": {
          "model_module": "@jupyter-widgets/base",
          "model_name": "LayoutModel",
          "model_module_version": "1.2.0",
          "state": {
            "_model_module": "@jupyter-widgets/base",
            "_model_module_version": "1.2.0",
            "_model_name": "LayoutModel",
            "_view_count": null,
            "_view_module": "@jupyter-widgets/base",
            "_view_module_version": "1.2.0",
            "_view_name": "LayoutView",
            "align_content": null,
            "align_items": null,
            "align_self": null,
            "border": null,
            "bottom": null,
            "display": null,
            "flex": null,
            "flex_flow": null,
            "grid_area": null,
            "grid_auto_columns": null,
            "grid_auto_flow": null,
            "grid_auto_rows": null,
            "grid_column": null,
            "grid_gap": null,
            "grid_row": null,
            "grid_template_areas": null,
            "grid_template_columns": null,
            "grid_template_rows": null,
            "height": "500px",
            "justify_content": null,
            "justify_items": null,
            "left": null,
            "margin": null,
            "max_height": null,
            "max_width": null,
            "min_height": null,
            "min_width": null,
            "object_fit": null,
            "object_position": null,
            "order": null,
            "overflow": null,
            "overflow_x": null,
            "overflow_y": null,
            "padding": null,
            "right": null,
            "top": null,
            "visibility": null,
            "width": "100%"
          }
        }
      }
    }
  },
  "cells": [
    {
      "cell_type": "markdown",
      "metadata": {
        "id": "view-in-github",
        "colab_type": "text"
      },
      "source": [
        "<a href=\"https://colab.research.google.com/github/jakobengdahl/SCBDatahubDefinition/blob/main/SCBs_dataeko_visualisering.ipynb\" target=\"_parent\"><img src=\"https://colab.research.google.com/assets/colab-badge.svg\" alt=\"Open In Colab\"/></a>"
      ]
    },
    {
      "cell_type": "code",
      "execution_count": 3,
      "metadata": {
        "colab": {
          "base_uri": "https://localhost:8080/",
          "height": 1179
        },
        "id": "328wS41rGJrK",
        "outputId": "7b170c37-bfb4-4312-d5f8-bc578f060144"
      },
      "outputs": [
        {
          "output_type": "display_data",
          "data": {
            "text/plain": [
              "<IPython.core.display.Javascript object>"
            ],
            "application/javascript": [
              "google.colab.output.setIframeHeight(0, true, {maxHeight: 5000})"
            ]
          },
          "metadata": {}
        },
        {
          "output_type": "stream",
          "name": "stdout",
          "text": [
            "Looking in indexes: https://pypi.org/simple, https://us-python.pkg.dev/colab-wheels/public/simple/\n",
            "Requirement already satisfied: networkx in /usr/local/lib/python3.9/dist-packages (3.0)\n",
            "Looking in indexes: https://pypi.org/simple, https://us-python.pkg.dev/colab-wheels/public/simple/\n",
            "Collecting yfiles_jupyter_graphs\n",
            "  Downloading yfiles_jupyter_graphs-1.4.3-py2.py3-none-any.whl (14.8 MB)\n",
            "\u001b[2K     \u001b[90m━━━━━━━━━━━━━━━━━━━━━━━━━━━━━━━━━━━━━━━━\u001b[0m \u001b[32m14.8/14.8 MB\u001b[0m \u001b[31m74.9 MB/s\u001b[0m eta \u001b[36m0:00:00\u001b[0m\n",
            "\u001b[?25hRequirement already satisfied: ipywidgets>=7.6.0 in /usr/local/lib/python3.9/dist-packages (from yfiles_jupyter_graphs) (7.7.1)\n",
            "Requirement already satisfied: ipython>=4.0.0 in /usr/local/lib/python3.9/dist-packages (from ipywidgets>=7.6.0->yfiles_jupyter_graphs) (7.9.0)\n",
            "Requirement already satisfied: traitlets>=4.3.1 in /usr/local/lib/python3.9/dist-packages (from ipywidgets>=7.6.0->yfiles_jupyter_graphs) (5.7.1)\n",
            "Requirement already satisfied: widgetsnbextension~=3.6.0 in /usr/local/lib/python3.9/dist-packages (from ipywidgets>=7.6.0->yfiles_jupyter_graphs) (3.6.3)\n",
            "Requirement already satisfied: jupyterlab-widgets>=1.0.0 in /usr/local/lib/python3.9/dist-packages (from ipywidgets>=7.6.0->yfiles_jupyter_graphs) (3.0.6)\n",
            "Requirement already satisfied: ipython-genutils~=0.2.0 in /usr/local/lib/python3.9/dist-packages (from ipywidgets>=7.6.0->yfiles_jupyter_graphs) (0.2.0)\n",
            "Requirement already satisfied: ipykernel>=4.5.1 in /usr/local/lib/python3.9/dist-packages (from ipywidgets>=7.6.0->yfiles_jupyter_graphs) (5.3.4)\n",
            "Requirement already satisfied: tornado>=4.2 in /usr/local/lib/python3.9/dist-packages (from ipykernel>=4.5.1->ipywidgets>=7.6.0->yfiles_jupyter_graphs) (6.2)\n",
            "Requirement already satisfied: jupyter-client in /usr/local/lib/python3.9/dist-packages (from ipykernel>=4.5.1->ipywidgets>=7.6.0->yfiles_jupyter_graphs) (6.1.12)\n",
            "Requirement already satisfied: pickleshare in /usr/local/lib/python3.9/dist-packages (from ipython>=4.0.0->ipywidgets>=7.6.0->yfiles_jupyter_graphs) (0.7.5)\n",
            "Requirement already satisfied: setuptools>=18.5 in /usr/local/lib/python3.9/dist-packages (from ipython>=4.0.0->ipywidgets>=7.6.0->yfiles_jupyter_graphs) (67.6.0)\n",
            "Collecting jedi>=0.10\n",
            "  Downloading jedi-0.18.2-py2.py3-none-any.whl (1.6 MB)\n",
            "\u001b[2K     \u001b[90m━━━━━━━━━━━━━━━━━━━━━━━━━━━━━━━━━━━━━━━━\u001b[0m \u001b[32m1.6/1.6 MB\u001b[0m \u001b[31m20.4 MB/s\u001b[0m eta \u001b[36m0:00:00\u001b[0m\n",
            "\u001b[?25hRequirement already satisfied: prompt-toolkit<2.1.0,>=2.0.0 in /usr/local/lib/python3.9/dist-packages (from ipython>=4.0.0->ipywidgets>=7.6.0->yfiles_jupyter_graphs) (2.0.10)\n",
            "Requirement already satisfied: decorator in /usr/local/lib/python3.9/dist-packages (from ipython>=4.0.0->ipywidgets>=7.6.0->yfiles_jupyter_graphs) (4.4.2)\n",
            "Requirement already satisfied: pexpect in /usr/local/lib/python3.9/dist-packages (from ipython>=4.0.0->ipywidgets>=7.6.0->yfiles_jupyter_graphs) (4.8.0)\n",
            "Requirement already satisfied: pygments in /usr/local/lib/python3.9/dist-packages (from ipython>=4.0.0->ipywidgets>=7.6.0->yfiles_jupyter_graphs) (2.14.0)\n",
            "Requirement already satisfied: backcall in /usr/local/lib/python3.9/dist-packages (from ipython>=4.0.0->ipywidgets>=7.6.0->yfiles_jupyter_graphs) (0.2.0)\n",
            "Requirement already satisfied: notebook>=4.4.1 in /usr/local/lib/python3.9/dist-packages (from widgetsnbextension~=3.6.0->ipywidgets>=7.6.0->yfiles_jupyter_graphs) (6.3.0)\n",
            "Requirement already satisfied: parso<0.9.0,>=0.8.0 in /usr/local/lib/python3.9/dist-packages (from jedi>=0.10->ipython>=4.0.0->ipywidgets>=7.6.0->yfiles_jupyter_graphs) (0.8.3)\n",
            "Requirement already satisfied: prometheus-client in /usr/local/lib/python3.9/dist-packages (from notebook>=4.4.1->widgetsnbextension~=3.6.0->ipywidgets>=7.6.0->yfiles_jupyter_graphs) (0.16.0)\n",
            "Requirement already satisfied: terminado>=0.8.3 in /usr/local/lib/python3.9/dist-packages (from notebook>=4.4.1->widgetsnbextension~=3.6.0->ipywidgets>=7.6.0->yfiles_jupyter_graphs) (0.17.1)\n",
            "Requirement already satisfied: nbconvert in /usr/local/lib/python3.9/dist-packages (from notebook>=4.4.1->widgetsnbextension~=3.6.0->ipywidgets>=7.6.0->yfiles_jupyter_graphs) (6.5.4)\n",
            "Requirement already satisfied: jinja2 in /usr/local/lib/python3.9/dist-packages (from notebook>=4.4.1->widgetsnbextension~=3.6.0->ipywidgets>=7.6.0->yfiles_jupyter_graphs) (3.1.2)\n",
            "Requirement already satisfied: argon2-cffi in /usr/local/lib/python3.9/dist-packages (from notebook>=4.4.1->widgetsnbextension~=3.6.0->ipywidgets>=7.6.0->yfiles_jupyter_graphs) (21.3.0)\n",
            "Requirement already satisfied: pyzmq>=17 in /usr/local/lib/python3.9/dist-packages (from notebook>=4.4.1->widgetsnbextension~=3.6.0->ipywidgets>=7.6.0->yfiles_jupyter_graphs) (23.2.1)\n",
            "Requirement already satisfied: Send2Trash>=1.5.0 in /usr/local/lib/python3.9/dist-packages (from notebook>=4.4.1->widgetsnbextension~=3.6.0->ipywidgets>=7.6.0->yfiles_jupyter_graphs) (1.8.0)\n",
            "Requirement already satisfied: jupyter-core>=4.6.1 in /usr/local/lib/python3.9/dist-packages (from notebook>=4.4.1->widgetsnbextension~=3.6.0->ipywidgets>=7.6.0->yfiles_jupyter_graphs) (5.3.0)\n",
            "Requirement already satisfied: nbformat in /usr/local/lib/python3.9/dist-packages (from notebook>=4.4.1->widgetsnbextension~=3.6.0->ipywidgets>=7.6.0->yfiles_jupyter_graphs) (5.8.0)\n",
            "Requirement already satisfied: python-dateutil>=2.1 in /usr/local/lib/python3.9/dist-packages (from jupyter-client->ipykernel>=4.5.1->ipywidgets>=7.6.0->yfiles_jupyter_graphs) (2.8.2)\n",
            "Requirement already satisfied: six>=1.9.0 in /usr/local/lib/python3.9/dist-packages (from prompt-toolkit<2.1.0,>=2.0.0->ipython>=4.0.0->ipywidgets>=7.6.0->yfiles_jupyter_graphs) (1.16.0)\n",
            "Requirement already satisfied: wcwidth in /usr/local/lib/python3.9/dist-packages (from prompt-toolkit<2.1.0,>=2.0.0->ipython>=4.0.0->ipywidgets>=7.6.0->yfiles_jupyter_graphs) (0.2.6)\n",
            "Requirement already satisfied: ptyprocess>=0.5 in /usr/local/lib/python3.9/dist-packages (from pexpect->ipython>=4.0.0->ipywidgets>=7.6.0->yfiles_jupyter_graphs) (0.7.0)\n",
            "Requirement already satisfied: platformdirs>=2.5 in /usr/local/lib/python3.9/dist-packages (from jupyter-core>=4.6.1->notebook>=4.4.1->widgetsnbextension~=3.6.0->ipywidgets>=7.6.0->yfiles_jupyter_graphs) (3.1.1)\n",
            "Requirement already satisfied: argon2-cffi-bindings in /usr/local/lib/python3.9/dist-packages (from argon2-cffi->notebook>=4.4.1->widgetsnbextension~=3.6.0->ipywidgets>=7.6.0->yfiles_jupyter_graphs) (21.2.0)\n",
            "Requirement already satisfied: MarkupSafe>=2.0 in /usr/local/lib/python3.9/dist-packages (from jinja2->notebook>=4.4.1->widgetsnbextension~=3.6.0->ipywidgets>=7.6.0->yfiles_jupyter_graphs) (2.1.2)\n",
            "Requirement already satisfied: beautifulsoup4 in /usr/local/lib/python3.9/dist-packages (from nbconvert->notebook>=4.4.1->widgetsnbextension~=3.6.0->ipywidgets>=7.6.0->yfiles_jupyter_graphs) (4.11.2)\n",
            "Requirement already satisfied: entrypoints>=0.2.2 in /usr/local/lib/python3.9/dist-packages (from nbconvert->notebook>=4.4.1->widgetsnbextension~=3.6.0->ipywidgets>=7.6.0->yfiles_jupyter_graphs) (0.4)\n",
            "Requirement already satisfied: jupyterlab-pygments in /usr/local/lib/python3.9/dist-packages (from nbconvert->notebook>=4.4.1->widgetsnbextension~=3.6.0->ipywidgets>=7.6.0->yfiles_jupyter_graphs) (0.2.2)\n",
            "Requirement already satisfied: defusedxml in /usr/local/lib/python3.9/dist-packages (from nbconvert->notebook>=4.4.1->widgetsnbextension~=3.6.0->ipywidgets>=7.6.0->yfiles_jupyter_graphs) (0.7.1)\n",
            "Requirement already satisfied: nbclient>=0.5.0 in /usr/local/lib/python3.9/dist-packages (from nbconvert->notebook>=4.4.1->widgetsnbextension~=3.6.0->ipywidgets>=7.6.0->yfiles_jupyter_graphs) (0.7.2)\n",
            "Requirement already satisfied: pandocfilters>=1.4.1 in /usr/local/lib/python3.9/dist-packages (from nbconvert->notebook>=4.4.1->widgetsnbextension~=3.6.0->ipywidgets>=7.6.0->yfiles_jupyter_graphs) (1.5.0)\n",
            "Requirement already satisfied: tinycss2 in /usr/local/lib/python3.9/dist-packages (from nbconvert->notebook>=4.4.1->widgetsnbextension~=3.6.0->ipywidgets>=7.6.0->yfiles_jupyter_graphs) (1.2.1)\n",
            "Requirement already satisfied: bleach in /usr/local/lib/python3.9/dist-packages (from nbconvert->notebook>=4.4.1->widgetsnbextension~=3.6.0->ipywidgets>=7.6.0->yfiles_jupyter_graphs) (6.0.0)\n",
            "Requirement already satisfied: mistune<2,>=0.8.1 in /usr/local/lib/python3.9/dist-packages (from nbconvert->notebook>=4.4.1->widgetsnbextension~=3.6.0->ipywidgets>=7.6.0->yfiles_jupyter_graphs) (0.8.4)\n",
            "Requirement already satisfied: packaging in /usr/local/lib/python3.9/dist-packages (from nbconvert->notebook>=4.4.1->widgetsnbextension~=3.6.0->ipywidgets>=7.6.0->yfiles_jupyter_graphs) (23.0)\n",
            "Requirement already satisfied: lxml in /usr/local/lib/python3.9/dist-packages (from nbconvert->notebook>=4.4.1->widgetsnbextension~=3.6.0->ipywidgets>=7.6.0->yfiles_jupyter_graphs) (4.9.2)\n",
            "Requirement already satisfied: jsonschema>=2.6 in /usr/local/lib/python3.9/dist-packages (from nbformat->notebook>=4.4.1->widgetsnbextension~=3.6.0->ipywidgets>=7.6.0->yfiles_jupyter_graphs) (4.3.3)\n",
            "Requirement already satisfied: fastjsonschema in /usr/local/lib/python3.9/dist-packages (from nbformat->notebook>=4.4.1->widgetsnbextension~=3.6.0->ipywidgets>=7.6.0->yfiles_jupyter_graphs) (2.16.3)\n",
            "Requirement already satisfied: pyrsistent!=0.17.0,!=0.17.1,!=0.17.2,>=0.14.0 in /usr/local/lib/python3.9/dist-packages (from jsonschema>=2.6->nbformat->notebook>=4.4.1->widgetsnbextension~=3.6.0->ipywidgets>=7.6.0->yfiles_jupyter_graphs) (0.19.3)\n",
            "Requirement already satisfied: attrs>=17.4.0 in /usr/local/lib/python3.9/dist-packages (from jsonschema>=2.6->nbformat->notebook>=4.4.1->widgetsnbextension~=3.6.0->ipywidgets>=7.6.0->yfiles_jupyter_graphs) (22.2.0)\n",
            "Requirement already satisfied: cffi>=1.0.1 in /usr/local/lib/python3.9/dist-packages (from argon2-cffi-bindings->argon2-cffi->notebook>=4.4.1->widgetsnbextension~=3.6.0->ipywidgets>=7.6.0->yfiles_jupyter_graphs) (1.15.1)\n",
            "Requirement already satisfied: soupsieve>1.2 in /usr/local/lib/python3.9/dist-packages (from beautifulsoup4->nbconvert->notebook>=4.4.1->widgetsnbextension~=3.6.0->ipywidgets>=7.6.0->yfiles_jupyter_graphs) (2.4)\n",
            "Requirement already satisfied: webencodings in /usr/local/lib/python3.9/dist-packages (from bleach->nbconvert->notebook>=4.4.1->widgetsnbextension~=3.6.0->ipywidgets>=7.6.0->yfiles_jupyter_graphs) (0.5.1)\n",
            "Requirement already satisfied: pycparser in /usr/local/lib/python3.9/dist-packages (from cffi>=1.0.1->argon2-cffi-bindings->argon2-cffi->notebook>=4.4.1->widgetsnbextension~=3.6.0->ipywidgets>=7.6.0->yfiles_jupyter_graphs) (2.21)\n",
            "Installing collected packages: jedi, yfiles_jupyter_graphs\n",
            "Successfully installed jedi-0.18.2 yfiles_jupyter_graphs-1.4.3\n"
          ]
        }
      ],
      "source": [
        "!pip install networkx\n",
        "!pip install yfiles_jupyter_graphs"
      ]
    },
    {
      "cell_type": "code",
      "source": [
        "from networkx import florentine_families_graph\n",
        "from yfiles_jupyter_graphs import GraphWidget"
      ],
      "metadata": {
        "colab": {
          "base_uri": "https://localhost:8080/",
          "height": 17
        },
        "id": "P7QgKrVnGPYI",
        "outputId": "126a54a6-4a60-46cd-cd97-a2703152f9dc"
      },
      "execution_count": 4,
      "outputs": [
        {
          "output_type": "display_data",
          "data": {
            "text/plain": [
              "<IPython.core.display.Javascript object>"
            ],
            "application/javascript": [
              "google.colab.output.setIframeHeight(0, true, {maxHeight: 5000})"
            ]
          },
          "metadata": {}
        }
      ]
    },
    {
      "cell_type": "code",
      "source": [
        "w = GraphWidget()\n"
      ],
      "metadata": {
        "colab": {
          "base_uri": "https://localhost:8080/",
          "height": 17
        },
        "id": "g3bjdRhAGRdL",
        "outputId": "a38bb273-f11e-4202-84af-6945bd871e05"
      },
      "execution_count": 5,
      "outputs": [
        {
          "output_type": "display_data",
          "data": {
            "text/plain": [
              "<IPython.core.display.Javascript object>"
            ],
            "application/javascript": [
              "google.colab.output.setIframeHeight(0, true, {maxHeight: 5000})"
            ]
          },
          "metadata": {}
        }
      ]
    },
    {
      "cell_type": "code",
      "source": [
        "from google.colab import output\n",
        "output.enable_custom_widget_manager()"
      ],
      "metadata": {
        "colab": {
          "base_uri": "https://localhost:8080/",
          "height": 17
        },
        "id": "79-jO2LUGnNr",
        "outputId": "a8bcad54-980f-48f4-c40b-fa25cf374747"
      },
      "execution_count": 6,
      "outputs": [
        {
          "output_type": "display_data",
          "data": {
            "text/plain": [
              "<IPython.core.display.Javascript object>"
            ],
            "application/javascript": [
              "google.colab.output.setIframeHeight(0, true, {maxHeight: 5000})"
            ]
          },
          "metadata": {}
        }
      ]
    },
    {
      "cell_type": "code",
      "source": [
        "datacrawler('github.com/statisticssweden/datahub/datahubbsmanifest.json')"
      ],
      "metadata": {
        "id": "tNsMC4Ffmg5x"
      },
      "execution_count": null,
      "outputs": []
    },
    {
      "cell_type": "code",
      "source": [
        "w.nodes = [\n",
        "    {\"id\": 0, \"properties\": {\"label\": \"Skatteverket\", \"url\": \"https://www.skatteverket.se\"}},\n",
        "    {\"id\": 1, \"properties\": {\"label\": \"Bolagsverket\", \"url\": \"https://www.bolagsverket.se\"}},\n",
        "    {\"id\": 2, \"properties\": {\"label\": \"Trafikverket\", \"url\": \"https://www.trafikverket.se\"}},\n",
        "    {\"id\": 3, \"properties\": {\"label\": \"Försäkringskassan\", \"url\": \"https://www.forsakringskassan.se\"}},\n",
        "    {\"id\": 4, \"properties\": {\"label\": \"Arbetsförmedlingen\", \"url\": \"https://www.arbetsformedlingen.se\"}},\n",
        "    {\"id\": 5, \"properties\": {\"label\": \"Statistiska Centralbyrån\", \"url\": \"https://www.scb.se\"}},\n",
        "    {\"id\": 6, \"properties\": {\"label\": \"Sveriges Riksbank\", \"url\": \"https://www.riksbank.se\"}},\n",
        "    {\"id\": 7, \"properties\": {\"label\": \"Socialstyrelsen\", \"url\": \"https://www.socialstyrelsen.se\"}}\n",
        "]\n",
        "\n",
        "w.edges = [\n",
        "    {\"id\": 0, \"start\": 0, \"end\": 1, \"properties\": {\"label\": \"data\"}},\n",
        "    {\"id\": 1, \"start\": 1, \"end\": 2, \"properties\": {\"label\": \"technical artefacts\"}},\n",
        "    {\"id\": 2, \"start\": 2, \"end\": 3, \"properties\": {\"label\": \"experts exchange\"}},\n",
        "    {\"id\": 3, \"start\": 3, \"end\": 4, \"properties\": {\"label\": \"data\"}},\n",
        "    {\"id\": 4, \"start\": 4, \"end\": 5, \"properties\": {\"label\": \"technical artefacts\"}},\n",
        "    {\"id\": 5, \"start\": 5, \"end\": 6, \"properties\": {\"label\": \"experts exchange\"}},\n",
        "    {\"id\": 6, \"start\": 6, \"end\": 7, \"properties\": {\"label\": \"data\"}},\n",
        "    {\"id\": 7, \"start\": 0, \"end\": 7, \"properties\": {\"label\": \"experts exchange\"}},\n",
        "    {\"id\": 8, \"start\": 0, \"end\": 3, \"properties\": {\"label\": \"technical artefacts\"}},\n",
        "    {\"id\": 9, \"start\": 1, \"end\": 3, \"properties\": {\"label\": \"experts exchange\"}},\n",
        "    {\"id\": 10, \"start\": 2, \"end\": 4, \"properties\": {\"label\": \"data\"}},\n",
        "    {\"id\": 11, \"start\": 3, \"end\": 6, \"properties\": {\"label\": \"technical artefacts\"}},\n",
        "    {\"id\": 12, \"start\": 4, \"end\": 7, \"properties\": {\"label\": \"experts exchange\"}},\n",
        "    {\"id\": 13, \"start\": 0, \"end\": 6, \"properties\": {\"label\": \"data\"}},\n",
        "    {\"id\": 14, \"start\": 1, \"end\": 4, \"properties\": {\"label\": \"technical artefacts\"}},\n",
        "    {\"id\": 15, \"start\": 2, \"end\": 5, \"properties\": {\"label\": \"experts exchange\"}},\n",
        "    {\"id\": 16, \"start\": 3, \"end\": 7, \"properties\": {\"label\": \"data\"}}\n",
        "]\n",
        "w"
      ],
      "metadata": {
        "colab": {
          "base_uri": "https://localhost:8080/",
          "height": 517,
          "referenced_widgets": [
            "ac6ac7eeaa024f7a8111259371c1b499",
            "ea9b95364e21470897ee978262201301"
          ]
        },
        "id": "0cduRJ0BGf3O",
        "outputId": "74e6ebeb-1a74-4543-880b-937bf68b1ee2"
      },
      "execution_count": 9,
      "outputs": [
        {
          "output_type": "display_data",
          "data": {
            "text/plain": [
              "<IPython.core.display.Javascript object>"
            ],
            "application/javascript": [
              "google.colab.output.setIframeHeight(0, true, {maxHeight: 5000})"
            ]
          },
          "metadata": {}
        },
        {
          "output_type": "display_data",
          "data": {
            "text/plain": [
              "<IPython.core.display.Javascript object>"
            ],
            "application/javascript": [
              "google.colab.output.setIframeHeight(0, true, {maxHeight: 5000})"
            ]
          },
          "metadata": {}
        },
        {
          "output_type": "display_data",
          "data": {
            "text/plain": [
              "GraphWidget(layout=Layout(height='500px', width='100%'))"
            ],
            "application/vnd.jupyter.widget-view+json": {
              "version_major": 2,
              "version_minor": 0,
              "model_id": "ac6ac7eeaa024f7a8111259371c1b499"
            }
          },
          "metadata": {
            "application/vnd.jupyter.widget-view+json": {
              "colab": {
                "custom_widget_manager": {
                  "url": "https://ssl.gstatic.com/colaboratory-static/widgets/colab-cdn-widget-manager/b3e629b1971e1542/manager.min.js"
                }
              }
            }
          }
        }
      ]
    },
    {
      "cell_type": "code",
      "source": [
        "# Avoids scroll-in-the-scroll in the entire Notebook\n",
        "from IPython.display import Javascript\n",
        "def resize_colab_cell():\n",
        "  display(Javascript('google.colab.output.setIframeHeight(0, true, {maxHeight: 5000})'))\n",
        "get_ipython().events.register('pre_run_cell', resize_colab_cell)"
      ],
      "metadata": {
        "colab": {
          "base_uri": "https://localhost:8080/",
          "height": 17
        },
        "id": "1n46Q47bGiDg",
        "outputId": "391ef669-52a7-4eda-b73a-0dcf88f819c0"
      },
      "execution_count": 8,
      "outputs": [
        {
          "output_type": "display_data",
          "data": {
            "text/plain": [
              "<IPython.core.display.Javascript object>"
            ],
            "application/javascript": [
              "google.colab.output.setIframeHeight(0, true, {maxHeight: 5000})"
            ]
          },
          "metadata": {}
        }
      ]
    },
    {
      "cell_type": "code",
      "source": [],
      "metadata": {
        "id": "nJBkFryEMt5w"
      },
      "execution_count": 8,
      "outputs": []
    }
  ]
}